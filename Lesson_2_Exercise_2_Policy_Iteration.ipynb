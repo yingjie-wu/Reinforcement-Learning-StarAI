{
  "nbformat": 4,
  "nbformat_minor": 0,
  "metadata": {
    "colab": {
      "name": "“Lesson-2-Exercise-2-Policy-Iteration.ipynb”的副本",
      "version": "0.3.2",
      "provenance": [],
      "collapsed_sections": [],
      "include_colab_link": true
    }
  },
  "cells": [
    {
      "cell_type": "markdown",
      "metadata": {
        "id": "view-in-github",
        "colab_type": "text"
      },
      "source": [
        "[View in Colaboratory](https://colab.research.google.com/github/yingjie-wu/Reinforcement-Learning-StarAI/blob/master/Lesson_2_Exercise_2_Policy_Iteration.ipynb)"
      ]
    },
    {
      "metadata": {
        "id": "uE05iLlKctJb",
        "colab_type": "code",
        "colab": {}
      },
      "cell_type": "code",
      "source": [
        "          _____                _____                    _____                    _____                    _____                    _____          \n",
        "         /\\    \\              /\\    \\                  /\\    \\                  /\\    \\                  /\\    \\                  /\\    \\         \n",
        "        /::\\    \\            /::\\    \\                /::\\    \\                /::\\    \\                /::\\    \\                /::\\    \\        \n",
        "       /::::\\    \\           \\:::\\    \\              /::::\\    \\              /::::\\    \\              /::::\\    \\               \\:::\\    \\       \n",
        "      /::::::\\    \\           \\:::\\    \\            /::::::\\    \\            /::::::\\    \\            /::::::\\    \\               \\:::\\    \\      \n",
        "     /:::/\\:::\\    \\           \\:::\\    \\          /:::/\\:::\\    \\          /:::/\\:::\\    \\          /:::/\\:::\\    \\               \\:::\\    \\     \n",
        "    /:::/__\\:::\\    \\           \\:::\\    \\        /:::/__\\:::\\    \\        /:::/__\\:::\\    \\        /:::/__\\:::\\    \\               \\:::\\    \\    \n",
        "    \\:::\\   \\:::\\    \\          /::::\\    \\      /::::\\   \\:::\\    \\      /::::\\   \\:::\\    \\      /::::\\   \\:::\\    \\              /::::\\    \\   \n",
        "  ___\\:::\\   \\:::\\    \\        /::::::\\    \\    /::::::\\   \\:::\\    \\    /::::::\\   \\:::\\    \\    /::::::\\   \\:::\\    \\    ____    /::::::\\    \\  \n",
        " /\\   \\:::\\   \\:::\\    \\      /:::/\\:::\\    \\  /:::/\\:::\\   \\:::\\    \\  /:::/\\:::\\   \\:::\\____\\  /:::/\\:::\\   \\:::\\    \\  /\\   \\  /:::/\\:::\\    \\ \n",
        "/::\\   \\:::\\   \\:::\\____\\    /:::/  \\:::\\____\\/:::/  \\:::\\   \\:::\\____\\/:::/  \\:::\\   \\:::|    |/:::/  \\:::\\   \\:::\\____\\/::\\   \\/:::/  \\:::\\____\\\n",
        "\\:::\\   \\:::\\   \\::/    /   /:::/    \\::/    /\\::/    \\:::\\  /:::/    /\\::/   |::::\\  /:::|____|\\::/    \\:::\\  /:::/    /\\:::\\  /:::/    \\::/    /\n",
        " \\:::\\   \\:::\\   \\/____/   /:::/    / \\/____/  \\/____/ \\:::\\/:::/    /  \\/____|:::::\\/:::/    /  \\/____/ \\:::\\/:::/    /  \\:::\\/:::/    / \\/____/ \n",
        "  \\:::\\   \\:::\\    \\      /:::/    /                    \\::::::/    /         |:::::::::/    /            \\::::::/    /    \\::::::/    /          \n",
        "   \\:::\\   \\:::\\____\\    /:::/    /                      \\::::/    /          |::|\\::::/    /              \\::::/    /      \\::::/____/           \n",
        "    \\:::\\  /:::/    /    \\::/    /                       /:::/    /           |::| \\::/____/               /:::/    /        \\:::\\    \\           \n",
        "     \\:::\\/:::/    /      \\/____/                       /:::/    /            |::|  ~|                    /:::/    /          \\:::\\    \\          \n",
        "      \\::::::/    /                                    /:::/    /             |::|   |                   /:::/    /            \\:::\\    \\         \n",
        "       \\::::/    /                                    /:::/    /              \\::|   |                  /:::/    /              \\:::\\____\\        \n",
        "        \\::/    /                                     \\::/    /                \\:|   |                  \\::/    /                \\::/    /        \n",
        "         \\/____/                                       \\/____/                  \\|___|                   \\/____/                  \\/____/         "
      ],
      "execution_count": 0,
      "outputs": []
    },
    {
      "metadata": {
        "id": "_0uHtBUmcELx",
        "colab_type": "text"
      },
      "cell_type": "markdown",
      "source": [
        "# Policy Iteration Exercise\n",
        "\n",
        "## Task\n",
        "\n",
        "Implement Policy iteration algorithm (you may use Policy Evaluation implementation from exercise 1)\n",
        "\n",
        "**Steps1**\n",
        "\n",
        "- Evaluate given policy. \n",
        "- Once optimal state-value function is calculated for the given policy update the policy by acting greedily with respect to state value function. The goal is to exclude \"bad\" actions from being executed.\n",
        "- After the policy has been update, evaluate and update again until the policiy is optimal.\n",
        "\n",
        "*Note:* you may consider policy to be optimal once it stops being updated after policy evaluation step."
      ]
    },
    {
      "metadata": {
        "id": "ace12ks11N3u",
        "colab_type": "text"
      },
      "cell_type": "markdown",
      "source": [
        "## What we implement\n",
        "\n",
        "$$\n",
        "V_*(s) = max(R(s, a) + \\gamma \\sum_{s' \\in S} P^a_{ss'} V_*(s'))\n",
        "$$"
      ]
    },
    {
      "metadata": {
        "id": "yiTVmpcMdUjB",
        "colab_type": "text"
      },
      "cell_type": "markdown",
      "source": [
        "## Implementation"
      ]
    },
    {
      "metadata": {
        "id": "2wuxqfbtb-F0",
        "colab_type": "code",
        "colab": {
          "base_uri": "https://localhost:8080/",
          "height": 347
        },
        "outputId": "a8bb7d5e-b7d3-43ee-aa22-428cfc707fa1"
      },
      "cell_type": "code",
      "source": [
        "# !python -m pip install -e git+https://github.com/star-ai/rl-environments.git#egg=rlenvs\n",
        "# !python -m pip install gym\n",
        "!pip install -e git+https://github.com/star-ai/rl-environments.git#egg=rlenvs\n",
        "!pip install gym"
      ],
      "execution_count": 1,
      "outputs": [
        {
          "output_type": "stream",
          "text": [
            "Obtaining rlenvs from git+https://github.com/star-ai/rl-environments.git#egg=rlenvs\n",
            "  Updating ./src/rlenvs clone\n",
            "Installing collected packages: rlenvs\n",
            "  Found existing installation: rlenvs 0.1\n",
            "    Uninstalling rlenvs-0.1:\n",
            "      Successfully uninstalled rlenvs-0.1\n",
            "  Running setup.py develop for rlenvs\n",
            "Successfully installed rlenvs\n",
            "Requirement already satisfied: gym in /usr/local/lib/python2.7/dist-packages (0.10.8)\n",
            "Requirement already satisfied: scipy in /usr/local/lib/python2.7/dist-packages (from gym) (0.19.1)\n",
            "Requirement already satisfied: six in /usr/local/lib/python2.7/dist-packages (from gym) (1.11.0)\n",
            "Requirement already satisfied: requests>=2.0 in /usr/local/lib/python2.7/dist-packages (from gym) (2.18.4)\n",
            "Requirement already satisfied: pyglet>=1.2.0 in /usr/local/lib/python2.7/dist-packages (from gym) (1.3.2)\n",
            "Requirement already satisfied: numpy>=1.10.4 in /usr/local/lib/python2.7/dist-packages (from gym) (1.14.6)\n",
            "Requirement already satisfied: idna<2.7,>=2.5 in /usr/local/lib/python2.7/dist-packages (from requests>=2.0->gym) (2.6)\n",
            "Requirement already satisfied: urllib3<1.23,>=1.21.1 in /usr/local/lib/python2.7/dist-packages (from requests>=2.0->gym) (1.22)\n",
            "Requirement already satisfied: certifi>=2017.4.17 in /usr/local/lib/python2.7/dist-packages (from requests>=2.0->gym) (2018.8.24)\n",
            "Requirement already satisfied: chardet<3.1.0,>=3.0.2 in /usr/local/lib/python2.7/dist-packages (from requests>=2.0->gym) (3.0.4)\n",
            "Requirement already satisfied: future in /usr/local/lib/python2.7/dist-packages (from pyglet>=1.2.0->gym) (0.16.0)\n"
          ],
          "name": "stdout"
        }
      ]
    },
    {
      "metadata": {
        "id": "Xrds3BqGdWqf",
        "colab_type": "code",
        "colab": {}
      },
      "cell_type": "code",
      "source": [
        "from IPython.core.debugger import set_trace\n",
        "import numpy as np\n",
        "import pprint\n",
        "\n",
        "# Import below can all of a sudden break\n",
        "# NOTE: if running locally, remove src.rlenvs from import\n",
        "# from src.rlenvs.rlenvs.envs.gridworld import GridworldEnv\n",
        "from rlenvs.envs.gridworld import GridworldEnv"
      ],
      "execution_count": 0,
      "outputs": []
    },
    {
      "metadata": {
        "id": "VA6H1KA2dZcl",
        "colab_type": "code",
        "colab": {}
      },
      "cell_type": "code",
      "source": [
        "pp = pprint.PrettyPrinter(indent=2)\n",
        "env = GridworldEnv()"
      ],
      "execution_count": 0,
      "outputs": []
    },
    {
      "metadata": {
        "id": "Ylu7t_4ZdjgH",
        "colab_type": "code",
        "colab": {}
      },
      "cell_type": "code",
      "source": [
        "def calculate_state_value(policy, state, env, V, discount_factor):\n",
        "    \"\"\"\"\n",
        "    Calculate state value given policy, state, and current state value function.\n",
        "\n",
        "    Args:\n",
        "      policy: Policy - [S, A] matrix of probabilities of action A given state S\n",
        "      env: Environment.\n",
        "        env.P[s][a] return list of transition tuples (transition_probability, \n",
        "          next_state, reward, done).\n",
        "      V: current state value function, V[s] return value for state s.\n",
        "    \"\"\"\n",
        "    v = 0\n",
        "    # Look at the possible next actions\n",
        "    for a, action_prob in enumerate(policy[state]):\n",
        "        # For each action, look at the possible next states...\n",
        "        for prob, next_state, reward, done in env.P[state][a]:\n",
        "            # Calculate the expected value\n",
        "            v += action_prob * prob * (reward + discount_factor * V[next_state])\n",
        "    return v\n",
        "  \n",
        "\n",
        "def run_full_sweep(policy, env, V, discount_factor):\n",
        "    \"\"\"\n",
        "    Run a full sweep over states.\n",
        "    \"\"\"\n",
        "    new_V = np.zeros(env.nS)\n",
        "    delta = 0\n",
        "    # For each state, perform a \"full backup\"\n",
        "    for s in range(env.nS):\n",
        "        v = calculate_state_value(policy, s, env, V, discount_factor)\n",
        "\n",
        "        # How much our value function changed (across any states)\n",
        "        delta = max(delta, np.abs(v - V[s]))\n",
        "        new_V[s] = v\n",
        "    return new_V, delta\n",
        "\n",
        "\n",
        "def policy_eval(policy, env, discount_factor=1.0, theta=0.00001):\n",
        "    \"\"\"\n",
        "    Evaluate a policy given an environment and a full description of the environment's dynamics.\n",
        "    \n",
        "    Args:\n",
        "        policy: [S, A] shaped matrix representing the policy.\n",
        "        env: OpenAI env. env.P represents the transition probabilities of the environment.\n",
        "            env.P[s][a] is a list of transition tuples (prob, next_state, reward, done).\n",
        "            env.nS is a number of states in the environment. \n",
        "            env.nA is a number of actions in the environment.\n",
        "        theta: We stop evaluation once our value function change is less than theta for all states.\n",
        "        discount_factor: Gamma discount factor.\n",
        "    \n",
        "    Returns:\n",
        "        Vector of length env.nS representing the value function.\n",
        "    \"\"\"\n",
        "    # Start with a random (all 0) value function\n",
        "    V = np.zeros(env.nS)\n",
        "    # Taken from Policy Evaluation Exercise!\n",
        "    while True:\n",
        "        V, delta = run_full_sweep(policy, env, V, discount_factor)\n",
        "        # Stop evaluating once our value function change is below a threshold\n",
        "        if delta < theta:\n",
        "            break    \n",
        "    return np.array(V)"
      ],
      "execution_count": 0,
      "outputs": []
    },
    {
      "metadata": {
        "id": "Pt7dA8kvdpQz",
        "colab_type": "code",
        "colab": {}
      },
      "cell_type": "code",
      "source": [
        "def policy_update(policy, env, V):\n",
        "    for state in range(env.nS):\n",
        "      next_state_value = []\n",
        "      \n",
        "      # Get state value of all possible next states\n",
        "      for a, action_prob in enumerate(policy[state]):\n",
        "          # For each action, look at the possible next states...\n",
        "          #print(\"action:\",a,\"action_prob:\",action_prob)\n",
        "          for prob, next_state, reward, done in env.P[state][a]:\n",
        "              #print(\"prob:\",prob,\"next_state:\",next_state,\"reward:\",reward,\"done:\",done)\n",
        "              next_state_value.append(V[next_state])\n",
        "              \n",
        "      greedy_action = np.argmax(next_state_value)\n",
        "      new_policy_for_state = [0,0,0,0]\n",
        "      new_policy_for_state[greedy_action] = 1\n",
        "      policy[state] = new_policy_for_state\n",
        "    return policy\n",
        "  \n",
        "\n",
        "def policy_improvement(env, policy_eval_fn=policy_eval, discount_factor=1.0):\n",
        "    \"\"\"\n",
        "    Policy Improvement Algorithm. Iteratively evaluates and improves a policy\n",
        "    until an optimal policy is found.\n",
        "    \n",
        "    Args:\n",
        "        env: The OpenAI envrionment.\n",
        "        policy_eval_fn: Policy Evaluation function that takes 3 arguments:\n",
        "            policy, env, discount_factor.\n",
        "        discount_factor: gamma discount factor.\n",
        "        \n",
        "    Returns:\n",
        "        A tuple (policy, V). \n",
        "        policy is the optimal policy, a matrix of shape [S, A] where each state s\n",
        "        contains a valid probability distribution over actions.\n",
        "        V is the value function for the optimal policy.\n",
        "        \n",
        "    \"\"\"\n",
        "    # Start with a random policy\n",
        "    policy = np.ones([env.nS, env.nA]) / env.nA\n",
        "    \n",
        "    i = 0\n",
        "    while True:       \n",
        "        old_policy = policy\n",
        "        V = policy_eval(policy, env)\n",
        "        policy = policy_update(policy, env, V)\n",
        "        \n",
        "        i+= 1\n",
        "        print(\"iteration: \",i)\n",
        "        if np.allclose(old_policy, policy) or i == 10:\n",
        "          break\n",
        "    \n",
        "    return policy, np.array(V)"
      ],
      "execution_count": 0,
      "outputs": []
    },
    {
      "metadata": {
        "id": "hVClO_LddtKX",
        "colab_type": "code",
        "colab": {
          "base_uri": "https://localhost:8080/",
          "height": 659
        },
        "outputId": "0ba2eb2c-92d5-49ee-ee87-49cc74653cf8"
      },
      "cell_type": "code",
      "source": [
        "policy, v = policy_improvement(env)\n",
        "print(\"Policy Probability Distribution:\")\n",
        "print(policy)\n",
        "print(\"\")\n",
        "\n",
        "print(\"Reshaped Grid Policy (0=up, 1=right, 2=down, 3=left):\")\n",
        "print(np.reshape(np.argmax(policy, axis=1), env.shape))\n",
        "print(\"\")\n",
        "\n",
        "print(\"Value Function:\")\n",
        "print(v)\n",
        "print(\"\")\n",
        "\n",
        "print(\"Reshaped Grid Value Function:\")\n",
        "print(v.reshape(env.shape))\n",
        "print(\"\")"
      ],
      "execution_count": 24,
      "outputs": [
        {
          "output_type": "stream",
          "text": [
            "('iteration: ', 1)\n",
            "Policy Probability Distribution:\n",
            "[[1. 0. 0. 0.]\n",
            " [0. 0. 0. 1.]\n",
            " [0. 0. 0. 1.]\n",
            " [0. 0. 1. 0.]\n",
            " [1. 0. 0. 0.]\n",
            " [1. 0. 0. 0.]\n",
            " [0. 0. 1. 0.]\n",
            " [0. 0. 1. 0.]\n",
            " [1. 0. 0. 0.]\n",
            " [1. 0. 0. 0.]\n",
            " [0. 1. 0. 0.]\n",
            " [0. 0. 1. 0.]\n",
            " [1. 0. 0. 0.]\n",
            " [0. 1. 0. 0.]\n",
            " [0. 1. 0. 0.]\n",
            " [1. 0. 0. 0.]]\n",
            "\n",
            "Reshaped Grid Policy (0=up, 1=right, 2=down, 3=left):\n",
            "[[0 3 3 2]\n",
            " [0 0 2 2]\n",
            " [0 0 1 2]\n",
            " [0 1 1 0]]\n",
            "\n",
            "Value Function:\n",
            "[  0.         -13.99989315 -19.99984167 -21.99982282 -13.99989315\n",
            " -17.99986052 -19.99984273 -19.99984167 -19.99984167 -19.99984273\n",
            " -17.99986052 -13.99989315 -21.99982282 -19.99984167 -13.99989315\n",
            "   0.        ]\n",
            "\n",
            "Reshaped Grid Value Function:\n",
            "[[  0.         -13.99989315 -19.99984167 -21.99982282]\n",
            " [-13.99989315 -17.99986052 -19.99984273 -19.99984167]\n",
            " [-19.99984167 -19.99984273 -17.99986052 -13.99989315]\n",
            " [-21.99982282 -19.99984167 -13.99989315   0.        ]]\n",
            "\n"
          ],
          "name": "stdout"
        }
      ]
    }
  ]
}
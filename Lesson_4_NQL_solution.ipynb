{
  "nbformat": 4,
  "nbformat_minor": 0,
  "metadata": {
    "colab": {
      "name": "“Lesson 4:NQL_solution.ipynb”的副本",
      "version": "0.3.2",
      "provenance": [],
      "include_colab_link": true
    },
    "kernelspec": {
      "display_name": "Python 3",
      "language": "python",
      "name": "python3"
    }
  },
  "cells": [
    {
      "cell_type": "markdown",
      "metadata": {
        "id": "view-in-github",
        "colab_type": "text"
      },
      "source": [
        "[View in Colaboratory](https://colab.research.google.com/github/yingjie-wu/Reinforcement-Learning-StarAI/blob/master/Lesson_4_NQL_solution.ipynb)"
      ]
    },
    {
      "metadata": {
        "id": "_MJd1Djf1KLQ",
        "colab_type": "code",
        "colab": {}
      },
      "cell_type": "code",
      "source": [
        "#           _____                _____                    _____                    _____                    _____                    _____          \n",
        "#         /\\    \\              /\\    \\                  /\\    \\                  /\\    \\                  /\\    \\                  /\\    \\         \n",
        "#        /::\\    \\            /::\\    \\                /::\\    \\                /::\\    \\                /::\\    \\                /::\\    \\        \n",
        "#       /::::\\    \\           \\:::\\    \\              /::::\\    \\              /::::\\    \\              /::::\\    \\               \\:::\\    \\       \n",
        "#      /::::::\\    \\           \\:::\\    \\            /::::::\\    \\            /::::::\\    \\            /::::::\\    \\               \\:::\\    \\      \n",
        "#     /:::/\\:::\\    \\           \\:::\\    \\          /:::/\\:::\\    \\          /:::/\\:::\\    \\          /:::/\\:::\\    \\               \\:::\\    \\     \n",
        "#    /:::/__\\:::\\    \\           \\:::\\    \\        /:::/__\\:::\\    \\        /:::/__\\:::\\    \\        /:::/__\\:::\\    \\               \\:::\\    \\    \n",
        "#    \\:::\\   \\:::\\    \\          /::::\\    \\      /::::\\   \\:::\\    \\      /::::\\   \\:::\\    \\      /::::\\   \\:::\\    \\              /::::\\    \\   \n",
        "#  ___\\:::\\   \\:::\\    \\        /::::::\\    \\    /::::::\\   \\:::\\    \\    /::::::\\   \\:::\\    \\    /::::::\\   \\:::\\    \\    ____    /::::::\\    \\  \n",
        "# /\\   \\:::\\   \\:::\\    \\      /:::/\\:::\\    \\  /:::/\\:::\\   \\:::\\    \\  /:::/\\:::\\   \\:::\\____\\  /:::/\\:::\\   \\:::\\    \\  /\\   \\  /:::/\\:::\\    \\ \n",
        "#/::\\   \\:::\\   \\:::\\____\\    /:::/  \\:::\\____\\/:::/  \\:::\\   \\:::\\____\\/:::/  \\:::\\   \\:::|    |/:::/  \\:::\\   \\:::\\____\\/::\\   \\/:::/  \\:::\\____\\\n",
        "#\\:::\\   \\:::\\   \\::/    /   /:::/    \\::/    /\\::/    \\:::\\  /:::/    /\\::/   |::::\\  /:::|____|\\::/    \\:::\\  /:::/    /\\:::\\  /:::/    \\::/    /\n",
        "# \\:::\\   \\:::\\   \\/____/   /:::/    / \\/____/  \\/____/ \\:::\\/:::/    /  \\/____|:::::\\/:::/    /  \\/____/ \\:::\\/:::/    /  \\:::\\/:::/    / \\/____/ \n",
        "#  \\:::\\   \\:::\\    \\      /:::/    /                    \\::::::/    /         |:::::::::/    /            \\::::::/    /    \\::::::/    /          \n",
        "#   \\:::\\   \\:::\\____\\    /:::/    /                      \\::::/    /          |::|\\::::/    /              \\::::/    /      \\::::/____/           \n",
        "#    \\:::\\  /:::/    /    \\::/    /                       /:::/    /           |::| \\::/____/               /:::/    /        \\:::\\    \\           \n",
        "#     \\:::\\/:::/    /      \\/____/                       /:::/    /            |::|  ~|                    /:::/    /          \\:::\\    \\          \n",
        "#      \\::::::/    /                                    /:::/    /             |::|   |                   /:::/    /            \\:::\\    \\         \n",
        "#       \\::::/    /                                    /:::/    /              \\::|   |                  /:::/    /              \\:::\\____\\        \n",
        "#        \\::/    /                                     \\::/    /                \\:|   |                  \\::/    /                \\::/    /        \n",
        "#         \\/____/                                       \\/____/                  \\|___|                   \\/____/                  \\/____/  "
      ],
      "execution_count": 0,
      "outputs": []
    },
    {
      "metadata": {
        "id": "ShkeHEQN1HXI",
        "colab_type": "text"
      },
      "cell_type": "markdown",
      "source": [
        "Imports, and dependencies"
      ]
    },
    {
      "metadata": {
        "id": "8fGjJUwz1QrV",
        "colab_type": "code",
        "colab": {}
      },
      "cell_type": "code",
      "source": [
        "!pip install gym pyvirtualdisplay > /dev/null 2>&1\n",
        "!apt-get install -y xvfb python-opengl ffmpeg > /dev/null 2>&1"
      ],
      "execution_count": 0,
      "outputs": []
    },
    {
      "metadata": {
        "id": "YAvO1qKA1RD3",
        "colab_type": "code",
        "colab": {}
      },
      "cell_type": "code",
      "source": [
        "import gym\n",
        "from gym import logger as gymlogger\n",
        "from gym.wrappers import Monitor\n",
        "gymlogger.set_level(40) #error only\n",
        "import tensorflow as tf\n",
        "import numpy as np\n",
        "import random\n",
        "import matplotlib\n",
        "import matplotlib.pyplot as plt\n",
        "%matplotlib inline\n",
        "import math\n",
        "import glob\n",
        "import io\n",
        "import base64\n",
        "from IPython.display import HTML\n",
        "\n",
        "from IPython import display as ipythondisplay\n"
      ],
      "execution_count": 0,
      "outputs": []
    },
    {
      "metadata": {
        "id": "yeAllPyL1TBI",
        "colab_type": "code",
        "outputId": "bbe9e743-1646-4f0a-dd2b-524b9b487af2",
        "colab": {
          "base_uri": "https://localhost:8080/",
          "height": 54
        }
      },
      "cell_type": "code",
      "source": [
        "from pyvirtualdisplay import Display\n",
        "display = Display(visible=0, size=(1400, 900))\n",
        "display.start()"
      ],
      "execution_count": 4,
      "outputs": [
        {
          "output_type": "execute_result",
          "data": {
            "text/plain": [
              "<Display cmd_param=['Xvfb', '-br', '-nolisten', 'tcp', '-screen', '0', '1400x900x24', ':1005'] cmd=['Xvfb', '-br', '-nolisten', 'tcp', '-screen', '0', '1400x900x24', ':1005'] oserror=None return_code=None stdout=\"None\" stderr=\"None\" timeout_happened=False>"
            ]
          },
          "metadata": {
            "tags": []
          },
          "execution_count": 4
        }
      ]
    },
    {
      "metadata": {
        "id": "8P79eGjD2QNm",
        "colab_type": "code",
        "colab": {}
      },
      "cell_type": "code",
      "source": [
        "\"\"\"\n",
        "Utility functions to enable video recording of gym environment and displaying it\n",
        "To enable video, just do \"env = wrap_env(env)\"\"\n",
        "\"\"\"\n",
        "\n",
        "def show_video():\n",
        "  mp4list = glob.glob('video/*.mp4')\n",
        "  if len(mp4list) > 0:\n",
        "    mp4 = mp4list[0]\n",
        "    video = io.open(mp4, 'r+b').read()\n",
        "    encoded = base64.b64encode(video)\n",
        "    ipythondisplay.display(HTML(data='''<video alt=\"test\" autoplay \n",
        "                loop controls style=\"height: 400px;\">\n",
        "                <source src=\"data:video/mp4;base64,{0}\" type=\"video/mp4\" />\n",
        "             </video>'''.format(encoded.decode('ascii'))))\n",
        "  else: \n",
        "    print(\"Could not find video\")\n",
        "    \n",
        "\n",
        "def wrap_env(env):\n",
        "  env = Monitor(env, './video', force=True)\n",
        "  return env"
      ],
      "execution_count": 0,
      "outputs": []
    },
    {
      "metadata": {
        "id": "0ZhwTwvV2Tz_",
        "colab_type": "text"
      },
      "cell_type": "markdown",
      "source": [
        "Imports, hyperparameters and environment setup"
      ]
    },
    {
      "metadata": {
        "id": "A0P1vrHn1HXN",
        "colab_type": "code",
        "colab": {}
      },
      "cell_type": "code",
      "source": [
        "\n",
        "\n",
        "GAMMA = 0.9  # discount factor for target Q\n",
        "INITIAL_EPSILON = 0.6  # starting value of epsilon\n",
        "FINAL_EPSILON = 0.05  # final value of epsilon\n",
        "EPSILON_DECAY_STEPS = 1000\n",
        "TEST_FREQUENCY = 100  # Num episodes to run before visualizing test accuracy\n",
        "HIDDEN_NODES = 20\n",
        "ENV_NAME = 'CartPole-v0'\n",
        "EPISODE = 2100  # Episode limitation\n",
        "STEP = 200  # Step limitation in an episode\n",
        "TEST = 10  # The number of tests to run every TEST_FREQUENCY episodes\n",
        "env = wrap_env(gym.make(ENV_NAME)) #wrapping the env to render as a video\n",
        "epsilon = INITIAL_EPSILON\n",
        "STATE_DIM = env.observation_space.shape[0]\n",
        "ACTION_DIM = env.action_space.n"
      ],
      "execution_count": 0,
      "outputs": []
    },
    {
      "metadata": {
        "id": "NnBkiGl71HXk",
        "colab_type": "text"
      },
      "cell_type": "markdown",
      "source": [
        "Define our inputs"
      ]
    },
    {
      "metadata": {
        "id": "39yF0ltD1HXp",
        "colab_type": "code",
        "colab": {}
      },
      "cell_type": "code",
      "source": [
        "state_in = tf.placeholder(\"float\", [None, STATE_DIM])\n",
        "action_in = tf.placeholder(\"float\", [None, ACTION_DIM]) \n",
        "target_in = tf.placeholder(\"float\", [None])"
      ],
      "execution_count": 0,
      "outputs": []
    },
    {
      "metadata": {
        "id": "NsMTFZDQ1HXz",
        "colab_type": "text"
      },
      "cell_type": "markdown",
      "source": [
        "Define our network"
      ]
    },
    {
      "metadata": {
        "id": "GSVfD-4C1HX3",
        "colab_type": "code",
        "colab": {}
      },
      "cell_type": "code",
      "source": [
        "h1 = tf.layers.dense(state_in, HIDDEN_NODES, activation=tf.nn.relu)\n",
        "h2 = tf.layers.dense(h1, HIDDEN_NODES, activation=tf.nn.relu)\n",
        "\n",
        "q_values = tf.layers.dense(h2, ACTION_DIM, activation=lambda x: x)\n",
        "\n",
        "q_action = tf.reduce_sum(tf.multiply(q_values, action_in), reduction_indices=1)"
      ],
      "execution_count": 0,
      "outputs": []
    },
    {
      "metadata": {
        "id": "chX-bvF31HX-",
        "colab_type": "text"
      },
      "cell_type": "markdown",
      "source": [
        "Define our loss function"
      ]
    },
    {
      "metadata": {
        "id": "-hsV_I7b1HYB",
        "colab_type": "code",
        "colab": {}
      },
      "cell_type": "code",
      "source": [
        "# Define Loss\n",
        "loss = tf.reduce_mean(tf.square(target_in - q_action))\n",
        "optimizer = tf.train.AdamOptimizer(0.0003).minimize(loss)"
      ],
      "execution_count": 0,
      "outputs": []
    },
    {
      "metadata": {
        "id": "HsL7XHlE1HYJ",
        "colab_type": "text"
      },
      "cell_type": "markdown",
      "source": [
        "Define our exploration policy"
      ]
    },
    {
      "metadata": {
        "id": "BzHzbANc1HYM",
        "colab_type": "code",
        "colab": {}
      },
      "cell_type": "code",
      "source": [
        "# NOTE: assumes all our previously defined vars are accessible\n",
        "def explore(state, epsilon):\n",
        "    Q_estimates = q_values.eval(feed_dict={\n",
        "        state_in: [state]\n",
        "    })\n",
        "    if random.random() <= epsilon:\n",
        "            action = random.randint(0, ACTION_DIM - 1)\n",
        "    else:\n",
        "        action = np.argmax(Q_estimates)\n",
        "    one_hot_action = np.zeros(ACTION_DIM)\n",
        "    one_hot_action[action] = 1\n",
        "    return one_hot_action"
      ],
      "execution_count": 0,
      "outputs": []
    },
    {
      "metadata": {
        "id": "7O9f3XK31HYW",
        "colab_type": "text"
      },
      "cell_type": "markdown",
      "source": [
        "Initialize Network"
      ]
    },
    {
      "metadata": {
        "id": "uBW-yH4G1HYZ",
        "colab_type": "code",
        "colab": {}
      },
      "cell_type": "code",
      "source": [
        "# Start session - Tensorflow housekeeping\n",
        "session = tf.InteractiveSession()\n",
        "session.run(tf.global_variables_initializer())"
      ],
      "execution_count": 0,
      "outputs": []
    },
    {
      "metadata": {
        "id": "kP6yJsia1HYn",
        "colab_type": "text"
      },
      "cell_type": "markdown",
      "source": [
        "Now our main loop"
      ]
    },
    {
      "metadata": {
        "id": "58XxqigK1HYs",
        "colab_type": "code",
        "outputId": "fa308b9b-7ac0-4b79-8a23-0952e25baed8",
        "colab": {
          "base_uri": "https://localhost:8080/",
          "height": 757
        }
      },
      "cell_type": "code",
      "source": [
        "for episode in range(EPISODE):\n",
        "    # initialize task\n",
        "    state = env.reset()\n",
        "\n",
        "    # Update epsilon once per episode - linear schedule\n",
        "    epsilon -= epsilon / EPSILON_DECAY_STEPS\n",
        "\n",
        "    # Move through env according to e-greedy policy\n",
        "    for step in range(STEP):\n",
        "        action = explore(state, epsilon)\n",
        "\n",
        "        next_state, reward, done, _ = env.step(np.argmax(action))\n",
        "\n",
        "        nextstate_q_values = q_values.eval(feed_dict={\n",
        "            state_in: [next_state]\n",
        "        })\n",
        "\n",
        "        if done:\n",
        "            target = reward\n",
        "        else:\n",
        "            target = reward + GAMMA * np.max(nextstate_q_values)\n",
        "\n",
        "        session.run([optimizer], feed_dict={\n",
        "            target_in: [target],\n",
        "            action_in: [action],\n",
        "            state_in: [state]\n",
        "        })\n",
        "        state = next_state\n",
        "        if done:\n",
        "            break\n",
        "\n",
        "    # Test and view sample runs - can disable render to save time\n",
        "    if (episode % TEST_FREQUENCY == 0 and episode != 0):\n",
        "        total_reward = 0\n",
        "        for i in range(TEST):\n",
        "            state = env.reset()\n",
        "            for j in range(STEP):\n",
        "                env.render()\n",
        "                action = np.argmax(q_values.eval(feed_dict={\n",
        "                    state_in: [state]\n",
        "                    }))\n",
        "                state, reward, done, _ = env.step(action)\n",
        "                total_reward += reward\n",
        "                if done:\n",
        "                    break\n",
        "        ave_reward = total_reward / TEST\n",
        "        print('episode:', episode, 'epsilon:', epsilon, 'Evaluation '\n",
        "                                    'Average Reward:', ave_reward)\n",
        "\n",
        "env.close()\n",
        "show_video()"
      ],
      "execution_count": 14,
      "outputs": [
        {
          "output_type": "stream",
          "text": [
            "episode: 100 epsilon: 0.5423324129799574 Evaluation Average Reward: 9.6\n",
            "episode: 200 epsilon: 0.4906981083894946 Evaluation Average Reward: 11.1\n",
            "episode: 300 epsilon: 0.4439797950743664 Evaluation Average Reward: 10.3\n",
            "episode: 400 epsilon: 0.40170943206044074 Evaluation Average Reward: 9.4\n",
            "episode: 500 epsilon: 0.3634635395497947 Evaluation Average Reward: 11.4\n",
            "episode: 600 epsilon: 0.32885895634680723 Evaluation Average Reward: 9.0\n",
            "episode: 700 epsilon: 0.29754900121060135 Evaluation Average Reward: 27.7\n",
            "episode: 800 epsilon: 0.26921999967687993 Evaluation Average Reward: 68.3\n",
            "episode: 900 epsilon: 0.24358814155359615 Evaluation Average Reward: 52.1\n",
            "episode: 1000 epsilon: 0.2203966376077164 Evaluation Average Reward: 33.5\n",
            "episode: 1100 epsilon: 0.19941314695772788 Evaluation Average Reward: 143.3\n",
            "episode: 1200 epsilon: 0.18042744939858418 Evaluation Average Reward: 18.4\n",
            "episode: 1300 epsilon: 0.16324933933959496 Evaluation Average Reward: 15.6\n",
            "episode: 1400 epsilon: 0.14770672025596665 Evaluation Average Reward: 121.1\n",
            "episode: 1500 epsilon: 0.13364388056352003 Evaluation Average Reward: 172.5\n",
            "episode: 1600 epsilon: 0.12091993364367537 Evaluation Average Reward: 49.9\n",
            "episode: 1700 epsilon: 0.10940740639030819 Evaluation Average Reward: 10.9\n",
            "episode: 1800 epsilon: 0.09899096213802909 Evaluation Average Reward: 199.9\n",
            "episode: 1900 epsilon: 0.08956624517771923 Evaluation Average Reward: 9.3\n",
            "episode: 2000 epsilon: 0.08103883528326146 Evaluation Average Reward: 142.8\n"
          ],
          "name": "stdout"
        },
        {
          "output_type": "display_data",
          "data": {
            "text/html": [
              "<video alt=\"test\" autoplay \n",
              "                loop controls style=\"height: 400px;\">\n",
              "                <source src=\"data:video/mp4;base64,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\" type=\"video/mp4\" />\n",
              "             </video>"
            ],
            "text/plain": [
              "<IPython.core.display.HTML object>"
            ]
          },
          "metadata": {
            "tags": []
          }
        }
      ]
    }
  ]
}